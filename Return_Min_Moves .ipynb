{
 "cells": [
  {
   "cell_type": "markdown",
   "metadata": {},
   "source": [
    "# Algorithm Question using python to solve"
   ]
  },
  {
   "cell_type": "markdown",
   "metadata": {},
   "source": [
    "### Definite a function to return the minimum number of moves after which every value X in the array occurs exactly X times. It's permissible to remove some values in Array"
   ]
  },
  {
   "cell_type": "code",
   "execution_count": 5,
   "metadata": {},
   "outputs": [],
   "source": [
    "# function solution\n",
    "def solution(A):\n",
    "    # write your code in Python 3.6\n",
    "    \n",
    "    # Stroes the count of the minimum moves\n",
    "    min_moves = 0\n",
    "\n",
    "    # store elements frequency in Array A and save in a dictionary\n",
    "    elements_count = {}\n",
    "\n",
    "    # count elements frequency\n",
    "    elements_count = {i:A.count(i) for i in A}\n",
    "\n",
    "    # get key in dictionary and corvert into a list\n",
    "    key_lists = list(elements_count)\n",
    "\n",
    "    # get value in dictionary and corvert into a list\n",
    "    values = elements_count.values()\n",
    "    values_list = list(values)\n",
    "\n",
    "    # loop to check the key occur frequency\n",
    "    for i in range(len(key_lists)):\n",
    "        \n",
    "        # check whether elements occur same as value\n",
    "        if key_lists [i] == values_list[i]:\n",
    "            # same, do don't need to move \n",
    "            min_moves += 0\n",
    "\n",
    "        # number of elements occur greater than value    \n",
    "        elif key_lists [i] < values_list[i]:\n",
    "            # must need to remove them, so add the gap into min_moves  \n",
    "            min_moves += values_list[i]-key_lists[i]\n",
    "\n",
    "        # number of elements occur lower than value   \n",
    "        elif key_lists [i] > values_list[i]:\n",
    "\n",
    "            # if different is 1 must need to remove 1 or add 1 \n",
    "            if abs(key_lists [i] - values_list[i]) == 1:\n",
    "                min_moves += 1\n",
    "\n",
    "            # if element only occur once, then just remove 1 \n",
    "            elif values_list[i] == 1:\n",
    "                min_moves += 1\n",
    "\n",
    "            # Other cases, we select the minimum between absolute value of the gap(key-value) and the number of elements occur (value itself), so if the gap is small, we need to add the gap, if gap is huge, then remove the number of elements\n",
    "            else:\n",
    "                min_moves += min(abs(key_lists [i] - values_list[i]), values_list[i])\n",
    "\n",
    "\n",
    "    return min_moves\n",
    "    pass\n",
    "\n"
   ]
  },
  {
   "cell_type": "code",
   "execution_count": 7,
   "metadata": {},
   "outputs": [
    {
     "data": {
      "text/plain": [
       "3"
      ]
     },
     "execution_count": 7,
     "metadata": {},
     "output_type": "execute_result"
    }
   ],
   "source": [
    "# Example 1\n",
    "A = [1,1,3,4,4,4]\n",
    "solution(A)"
   ]
  },
  {
   "cell_type": "code",
   "execution_count": 8,
   "metadata": {},
   "outputs": [
    {
     "data": {
      "text/plain": [
       "4"
      ]
     },
     "execution_count": 8,
     "metadata": {},
     "output_type": "execute_result"
    }
   ],
   "source": [
    "# Example 2\n",
    "B = [1,2,2,2,5,5,5,8]\n",
    "solution(B)"
   ]
  },
  {
   "cell_type": "code",
   "execution_count": null,
   "metadata": {},
   "outputs": [],
   "source": []
  },
  {
   "cell_type": "code",
   "execution_count": null,
   "metadata": {},
   "outputs": [],
   "source": []
  }
 ],
 "metadata": {
  "kernelspec": {
   "display_name": "Python 3",
   "language": "python",
   "name": "python3"
  },
  "language_info": {
   "codemirror_mode": {
    "name": "ipython",
    "version": 3
   },
   "file_extension": ".py",
   "mimetype": "text/x-python",
   "name": "python",
   "nbconvert_exporter": "python",
   "pygments_lexer": "ipython3",
   "version": "3.8.5"
  }
 },
 "nbformat": 4,
 "nbformat_minor": 4
}
